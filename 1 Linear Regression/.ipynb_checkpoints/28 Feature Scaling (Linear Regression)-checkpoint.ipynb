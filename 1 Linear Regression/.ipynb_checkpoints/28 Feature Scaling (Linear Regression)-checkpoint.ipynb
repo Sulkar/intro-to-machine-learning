{
 "cells": [
  {
   "cell_type": "markdown",
   "id": "99cc1f02",
   "metadata": {},
   "source": [
    "Feature Scaling (Linear Regression)\n",
    "\n",
    "pandas iloc = https://pandas.pydata.org/docs/reference/api/pandas.DataFrame.iloc.html"
   ]
  },
  {
   "cell_type": "code",
   "execution_count": 24,
   "id": "37d86282",
   "metadata": {},
   "outputs": [
    {
     "name": "stdout",
     "output_type": "stream",
     "text": [
      "     1.25664  2.04978  -6.23640  4.71926  -4.26931  0.20590\n",
      "0   -3.89012 -0.37511   6.14979  4.94585  -3.57844  0.00640\n",
      "1    5.09784  0.98120  -0.29939  5.85805   0.28297 -0.20626\n",
      "2    0.39034 -3.06861  -5.63488  6.43941   0.39256 -0.07084\n",
      "3    5.84727 -0.15922  11.41246  7.52165   1.69886  0.29022\n",
      "4   -2.86202 -0.84337  -1.08165  0.67115  -2.48911  0.52328\n",
      "..       ...      ...       ...      ...       ...      ...\n",
      "94  -4.58240 -1.27825   7.55098  8.83930  -3.80318  0.04386\n",
      "95 -10.00364  2.66002  -4.26776 -3.73792  -0.72349 -0.24617\n",
      "96  -4.32624 -2.30314  -8.16044  4.46366  -3.33569 -0.01655\n",
      "97  -1.90167 -0.15858 -10.43466  4.89762  -0.64606 -0.14519\n",
      "98   2.43213  2.41613   2.49949 -8.03891  -1.64164 -0.63444\n",
      "\n",
      "[99 rows x 6 columns]\n",
      "    12.31798\n",
      "0   23.67628\n",
      "1   -1.53459\n",
      "2  -24.68670\n",
      "3   17.54122\n",
      "4    9.39789\n",
      "..       ...\n",
      "94  26.14768\n",
      "95   0.76214\n",
      "96 -10.05262\n",
      "97 -19.63970\n",
      "98  12.76193\n",
      "\n",
      "[99 rows x 1 columns]\n",
      "[  0.           3.8596924    9.05021225  -0.         -11.72692976\n",
      "   0.41040086]\n"
     ]
    }
   ],
   "source": [
    "# TODO: Add import statements\n",
    "import numpy \n",
    "import pandas\n",
    "from sklearn.linear_model import Lasso\n",
    "from sklearn.preprocessing import StandardScaler\n",
    "\n",
    "data = pandas.read_csv(\"data/FeatureScaling.csv\")\n",
    "\n",
    "\n",
    "# Assign the data to predictor and outcome variables\n",
    "X = data.iloc[:, :-1] # all columns but last one\n",
    "y = data.iloc[:, -1:] # last column\n",
    "\n",
    "\n",
    "print(X)\n",
    "print(y)\n",
    "\n",
    "# TODO: Create the standardization scaling object.\n",
    "scaler = StandardScaler()\n",
    "\n",
    "# TODO: Fit the standardization parameters and scale the data.\n",
    "X_scaled = scaler.fit_transform(X,y)\n",
    "\n",
    "# TODO: Create the linear regression model with lasso regularization.\n",
    "lasso_reg = Lasso()\n",
    "\n",
    "lasso_reg.fit(X_scaled,y)\n",
    "# TODO: Fit the model.\n",
    "\n",
    "\n",
    "# TODO: Retrieve and print out the coefficients from the regression model.\n",
    "reg_coef = lasso_reg.coef_\n",
    "print(reg_coef)\n"
   ]
  },
  {
   "cell_type": "code",
   "execution_count": null,
   "id": "876fcb65",
   "metadata": {},
   "outputs": [],
   "source": []
  }
 ],
 "metadata": {
  "kernelspec": {
   "display_name": "Python 3 (ipykernel)",
   "language": "python",
   "name": "python3"
  },
  "language_info": {
   "codemirror_mode": {
    "name": "ipython",
    "version": 3
   },
   "file_extension": ".py",
   "mimetype": "text/x-python",
   "name": "python",
   "nbconvert_exporter": "python",
   "pygments_lexer": "ipython3",
   "version": "3.8.12"
  }
 },
 "nbformat": 4,
 "nbformat_minor": 5
}
